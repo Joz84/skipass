{
 "cells": [
  {
   "cell_type": "code",
   "execution_count": 4,
   "id": "qVf34xoPwOzX",
   "metadata": {
    "colab": {
     "base_uri": "https://localhost:8080/"
    },
    "id": "qVf34xoPwOzX",
    "outputId": "b87b0d4a-907d-42cd-8b79-b9fc17edb643"
   },
   "outputs": [],
   "source": [
    "#!pip install pmdarima"
   ]
  },
  {
   "cell_type": "code",
   "execution_count": 5,
   "id": "pressed-panama",
   "metadata": {
    "id": "pressed-panama"
   },
   "outputs": [
    {
     "name": "stdout",
     "output_type": "stream",
     "text": [
      "The autoreload extension is already loaded. To reload it, use:\n",
      "  %reload_ext autoreload\n"
     ]
    }
   ],
   "source": [
    "%load_ext autoreload\n",
    "%autoreload 2\n",
    "import os\n",
    "import pandas as pd\n",
    "import matplotlib.pyplot as plt\n",
    "from statsmodels.tsa.seasonal import seasonal_decompose\n",
    "import numpy as np\n",
    "from datetime import date, timedelta\n",
    "from sklearn.impute import SimpleImputer\n",
    "import scipy.optimize as op\n",
    "from statsmodels.tsa.stattools import adfuller\n",
    "from statsmodels.graphics.tsaplots import plot_acf\n",
    "from statsmodels.graphics.tsaplots import plot_pacf\n",
    "from pmdarima.arima.utils import ndiffs\n",
    "from statsmodels.tsa.arima_model import ARIMA\n",
    "import pmdarima as pm"
   ]
  },
  {
   "cell_type": "code",
   "execution_count": 6,
   "id": "nBkSUGJVwl0z",
   "metadata": {
    "colab": {
     "base_uri": "https://localhost:8080/"
    },
    "id": "nBkSUGJVwl0z",
    "outputId": "e7690605-56b2-4392-d74f-ca2cb1ec72cb"
   },
   "outputs": [],
   "source": [
    "#from google.colab import drive\n",
    "#drive.mount('/content/drive')\n"
   ]
  },
  {
   "cell_type": "code",
   "execution_count": 7,
   "id": "immediate-opposition",
   "metadata": {
    "id": "immediate-opposition"
   },
   "outputs": [],
   "source": [
    "csv_path = os.path.join('..','data','data_weather_cleaned.csv')\n",
    "csv_path = os.path.join('/', 'content', 'drive', 'MyDrive', 'Colab Notebooks', 'skipass-master','data','data_weather_cleaned.csv')"
   ]
  },
  {
   "cell_type": "code",
   "execution_count": 8,
   "id": "organic-tracy",
   "metadata": {
    "id": "organic-tracy"
   },
   "outputs": [
    {
     "ename": "FileNotFoundError",
     "evalue": "[Errno 2] No such file or directory: '/content/drive/MyDrive/Colab Notebooks/skipass-master/data/data_weather_cleaned.csv'",
     "output_type": "error",
     "traceback": [
      "\u001b[0;31m---------------------------------------------------------------------------\u001b[0m",
      "\u001b[0;31mFileNotFoundError\u001b[0m                         Traceback (most recent call last)",
      "\u001b[0;32m<ipython-input-8-fc67eb8886a9>\u001b[0m in \u001b[0;36m<module>\u001b[0;34m\u001b[0m\n\u001b[0;32m----> 1\u001b[0;31m \u001b[0mdf\u001b[0m \u001b[0;34m=\u001b[0m \u001b[0mpd\u001b[0m\u001b[0;34m.\u001b[0m\u001b[0mread_csv\u001b[0m\u001b[0;34m(\u001b[0m\u001b[0mcsv_path\u001b[0m\u001b[0;34m)\u001b[0m\u001b[0;34m\u001b[0m\u001b[0;34m\u001b[0m\u001b[0m\n\u001b[0m",
      "\u001b[0;32m~/.pyenv/versions/3.8.6/envs/lewagon/lib/python3.8/site-packages/pandas/io/parsers.py\u001b[0m in \u001b[0;36mread_csv\u001b[0;34m(filepath_or_buffer, sep, delimiter, header, names, index_col, usecols, squeeze, prefix, mangle_dupe_cols, dtype, engine, converters, true_values, false_values, skipinitialspace, skiprows, skipfooter, nrows, na_values, keep_default_na, na_filter, verbose, skip_blank_lines, parse_dates, infer_datetime_format, keep_date_col, date_parser, dayfirst, cache_dates, iterator, chunksize, compression, thousands, decimal, lineterminator, quotechar, quoting, doublequote, escapechar, comment, encoding, dialect, error_bad_lines, warn_bad_lines, delim_whitespace, low_memory, memory_map, float_precision, storage_options)\u001b[0m\n\u001b[1;32m    608\u001b[0m     \u001b[0mkwds\u001b[0m\u001b[0;34m.\u001b[0m\u001b[0mupdate\u001b[0m\u001b[0;34m(\u001b[0m\u001b[0mkwds_defaults\u001b[0m\u001b[0;34m)\u001b[0m\u001b[0;34m\u001b[0m\u001b[0;34m\u001b[0m\u001b[0m\n\u001b[1;32m    609\u001b[0m \u001b[0;34m\u001b[0m\u001b[0m\n\u001b[0;32m--> 610\u001b[0;31m     \u001b[0;32mreturn\u001b[0m \u001b[0m_read\u001b[0m\u001b[0;34m(\u001b[0m\u001b[0mfilepath_or_buffer\u001b[0m\u001b[0;34m,\u001b[0m \u001b[0mkwds\u001b[0m\u001b[0;34m)\u001b[0m\u001b[0;34m\u001b[0m\u001b[0;34m\u001b[0m\u001b[0m\n\u001b[0m\u001b[1;32m    611\u001b[0m \u001b[0;34m\u001b[0m\u001b[0m\n\u001b[1;32m    612\u001b[0m \u001b[0;34m\u001b[0m\u001b[0m\n",
      "\u001b[0;32m~/.pyenv/versions/3.8.6/envs/lewagon/lib/python3.8/site-packages/pandas/io/parsers.py\u001b[0m in \u001b[0;36m_read\u001b[0;34m(filepath_or_buffer, kwds)\u001b[0m\n\u001b[1;32m    460\u001b[0m \u001b[0;34m\u001b[0m\u001b[0m\n\u001b[1;32m    461\u001b[0m     \u001b[0;31m# Create the parser.\u001b[0m\u001b[0;34m\u001b[0m\u001b[0;34m\u001b[0m\u001b[0;34m\u001b[0m\u001b[0m\n\u001b[0;32m--> 462\u001b[0;31m     \u001b[0mparser\u001b[0m \u001b[0;34m=\u001b[0m \u001b[0mTextFileReader\u001b[0m\u001b[0;34m(\u001b[0m\u001b[0mfilepath_or_buffer\u001b[0m\u001b[0;34m,\u001b[0m \u001b[0;34m**\u001b[0m\u001b[0mkwds\u001b[0m\u001b[0;34m)\u001b[0m\u001b[0;34m\u001b[0m\u001b[0;34m\u001b[0m\u001b[0m\n\u001b[0m\u001b[1;32m    463\u001b[0m \u001b[0;34m\u001b[0m\u001b[0m\n\u001b[1;32m    464\u001b[0m     \u001b[0;32mif\u001b[0m \u001b[0mchunksize\u001b[0m \u001b[0;32mor\u001b[0m \u001b[0miterator\u001b[0m\u001b[0;34m:\u001b[0m\u001b[0;34m\u001b[0m\u001b[0;34m\u001b[0m\u001b[0m\n",
      "\u001b[0;32m~/.pyenv/versions/3.8.6/envs/lewagon/lib/python3.8/site-packages/pandas/io/parsers.py\u001b[0m in \u001b[0;36m__init__\u001b[0;34m(self, f, engine, **kwds)\u001b[0m\n\u001b[1;32m    817\u001b[0m             \u001b[0mself\u001b[0m\u001b[0;34m.\u001b[0m\u001b[0moptions\u001b[0m\u001b[0;34m[\u001b[0m\u001b[0;34m\"has_index_names\"\u001b[0m\u001b[0;34m]\u001b[0m \u001b[0;34m=\u001b[0m \u001b[0mkwds\u001b[0m\u001b[0;34m[\u001b[0m\u001b[0;34m\"has_index_names\"\u001b[0m\u001b[0;34m]\u001b[0m\u001b[0;34m\u001b[0m\u001b[0;34m\u001b[0m\u001b[0m\n\u001b[1;32m    818\u001b[0m \u001b[0;34m\u001b[0m\u001b[0m\n\u001b[0;32m--> 819\u001b[0;31m         \u001b[0mself\u001b[0m\u001b[0;34m.\u001b[0m\u001b[0m_engine\u001b[0m \u001b[0;34m=\u001b[0m \u001b[0mself\u001b[0m\u001b[0;34m.\u001b[0m\u001b[0m_make_engine\u001b[0m\u001b[0;34m(\u001b[0m\u001b[0mself\u001b[0m\u001b[0;34m.\u001b[0m\u001b[0mengine\u001b[0m\u001b[0;34m)\u001b[0m\u001b[0;34m\u001b[0m\u001b[0;34m\u001b[0m\u001b[0m\n\u001b[0m\u001b[1;32m    820\u001b[0m \u001b[0;34m\u001b[0m\u001b[0m\n\u001b[1;32m    821\u001b[0m     \u001b[0;32mdef\u001b[0m \u001b[0mclose\u001b[0m\u001b[0;34m(\u001b[0m\u001b[0mself\u001b[0m\u001b[0;34m)\u001b[0m\u001b[0;34m:\u001b[0m\u001b[0;34m\u001b[0m\u001b[0;34m\u001b[0m\u001b[0m\n",
      "\u001b[0;32m~/.pyenv/versions/3.8.6/envs/lewagon/lib/python3.8/site-packages/pandas/io/parsers.py\u001b[0m in \u001b[0;36m_make_engine\u001b[0;34m(self, engine)\u001b[0m\n\u001b[1;32m   1048\u001b[0m             )\n\u001b[1;32m   1049\u001b[0m         \u001b[0;31m# error: Too many arguments for \"ParserBase\"\u001b[0m\u001b[0;34m\u001b[0m\u001b[0;34m\u001b[0m\u001b[0;34m\u001b[0m\u001b[0m\n\u001b[0;32m-> 1050\u001b[0;31m         \u001b[0;32mreturn\u001b[0m \u001b[0mmapping\u001b[0m\u001b[0;34m[\u001b[0m\u001b[0mengine\u001b[0m\u001b[0;34m]\u001b[0m\u001b[0;34m(\u001b[0m\u001b[0mself\u001b[0m\u001b[0;34m.\u001b[0m\u001b[0mf\u001b[0m\u001b[0;34m,\u001b[0m \u001b[0;34m**\u001b[0m\u001b[0mself\u001b[0m\u001b[0;34m.\u001b[0m\u001b[0moptions\u001b[0m\u001b[0;34m)\u001b[0m  \u001b[0;31m# type: ignore[call-arg]\u001b[0m\u001b[0;34m\u001b[0m\u001b[0;34m\u001b[0m\u001b[0m\n\u001b[0m\u001b[1;32m   1051\u001b[0m \u001b[0;34m\u001b[0m\u001b[0m\n\u001b[1;32m   1052\u001b[0m     \u001b[0;32mdef\u001b[0m \u001b[0m_failover_to_python\u001b[0m\u001b[0;34m(\u001b[0m\u001b[0mself\u001b[0m\u001b[0;34m)\u001b[0m\u001b[0;34m:\u001b[0m\u001b[0;34m\u001b[0m\u001b[0;34m\u001b[0m\u001b[0m\n",
      "\u001b[0;32m~/.pyenv/versions/3.8.6/envs/lewagon/lib/python3.8/site-packages/pandas/io/parsers.py\u001b[0m in \u001b[0;36m__init__\u001b[0;34m(self, src, **kwds)\u001b[0m\n\u001b[1;32m   1865\u001b[0m \u001b[0;34m\u001b[0m\u001b[0m\n\u001b[1;32m   1866\u001b[0m         \u001b[0;31m# open handles\u001b[0m\u001b[0;34m\u001b[0m\u001b[0;34m\u001b[0m\u001b[0;34m\u001b[0m\u001b[0m\n\u001b[0;32m-> 1867\u001b[0;31m         \u001b[0mself\u001b[0m\u001b[0;34m.\u001b[0m\u001b[0m_open_handles\u001b[0m\u001b[0;34m(\u001b[0m\u001b[0msrc\u001b[0m\u001b[0;34m,\u001b[0m \u001b[0mkwds\u001b[0m\u001b[0;34m)\u001b[0m\u001b[0;34m\u001b[0m\u001b[0;34m\u001b[0m\u001b[0m\n\u001b[0m\u001b[1;32m   1868\u001b[0m         \u001b[0;32massert\u001b[0m \u001b[0mself\u001b[0m\u001b[0;34m.\u001b[0m\u001b[0mhandles\u001b[0m \u001b[0;32mis\u001b[0m \u001b[0;32mnot\u001b[0m \u001b[0;32mNone\u001b[0m\u001b[0;34m\u001b[0m\u001b[0;34m\u001b[0m\u001b[0m\n\u001b[1;32m   1869\u001b[0m         \u001b[0;32mfor\u001b[0m \u001b[0mkey\u001b[0m \u001b[0;32min\u001b[0m \u001b[0;34m(\u001b[0m\u001b[0;34m\"storage_options\"\u001b[0m\u001b[0;34m,\u001b[0m \u001b[0;34m\"encoding\"\u001b[0m\u001b[0;34m,\u001b[0m \u001b[0;34m\"memory_map\"\u001b[0m\u001b[0;34m,\u001b[0m \u001b[0;34m\"compression\"\u001b[0m\u001b[0;34m)\u001b[0m\u001b[0;34m:\u001b[0m\u001b[0;34m\u001b[0m\u001b[0;34m\u001b[0m\u001b[0m\n",
      "\u001b[0;32m~/.pyenv/versions/3.8.6/envs/lewagon/lib/python3.8/site-packages/pandas/io/parsers.py\u001b[0m in \u001b[0;36m_open_handles\u001b[0;34m(self, src, kwds)\u001b[0m\n\u001b[1;32m   1360\u001b[0m         \u001b[0mLet\u001b[0m \u001b[0mthe\u001b[0m \u001b[0mreaders\u001b[0m \u001b[0mopen\u001b[0m \u001b[0mIOHanldes\u001b[0m \u001b[0mafter\u001b[0m \u001b[0mthey\u001b[0m \u001b[0mare\u001b[0m \u001b[0mdone\u001b[0m \u001b[0;32mwith\u001b[0m \u001b[0mtheir\u001b[0m \u001b[0mpotential\u001b[0m \u001b[0mraises\u001b[0m\u001b[0;34m.\u001b[0m\u001b[0;34m\u001b[0m\u001b[0;34m\u001b[0m\u001b[0m\n\u001b[1;32m   1361\u001b[0m         \"\"\"\n\u001b[0;32m-> 1362\u001b[0;31m         self.handles = get_handle(\n\u001b[0m\u001b[1;32m   1363\u001b[0m             \u001b[0msrc\u001b[0m\u001b[0;34m,\u001b[0m\u001b[0;34m\u001b[0m\u001b[0;34m\u001b[0m\u001b[0m\n\u001b[1;32m   1364\u001b[0m             \u001b[0;34m\"r\"\u001b[0m\u001b[0;34m,\u001b[0m\u001b[0;34m\u001b[0m\u001b[0;34m\u001b[0m\u001b[0m\n",
      "\u001b[0;32m~/.pyenv/versions/3.8.6/envs/lewagon/lib/python3.8/site-packages/pandas/io/common.py\u001b[0m in \u001b[0;36mget_handle\u001b[0;34m(path_or_buf, mode, encoding, compression, memory_map, is_text, errors, storage_options)\u001b[0m\n\u001b[1;32m    640\u001b[0m                 \u001b[0merrors\u001b[0m \u001b[0;34m=\u001b[0m \u001b[0;34m\"replace\"\u001b[0m\u001b[0;34m\u001b[0m\u001b[0;34m\u001b[0m\u001b[0m\n\u001b[1;32m    641\u001b[0m             \u001b[0;31m# Encoding\u001b[0m\u001b[0;34m\u001b[0m\u001b[0;34m\u001b[0m\u001b[0;34m\u001b[0m\u001b[0m\n\u001b[0;32m--> 642\u001b[0;31m             handle = open(\n\u001b[0m\u001b[1;32m    643\u001b[0m                 \u001b[0mhandle\u001b[0m\u001b[0;34m,\u001b[0m\u001b[0;34m\u001b[0m\u001b[0;34m\u001b[0m\u001b[0m\n\u001b[1;32m    644\u001b[0m                 \u001b[0mioargs\u001b[0m\u001b[0;34m.\u001b[0m\u001b[0mmode\u001b[0m\u001b[0;34m,\u001b[0m\u001b[0;34m\u001b[0m\u001b[0;34m\u001b[0m\u001b[0m\n",
      "\u001b[0;31mFileNotFoundError\u001b[0m: [Errno 2] No such file or directory: '/content/drive/MyDrive/Colab Notebooks/skipass-master/data/data_weather_cleaned.csv'"
     ]
    }
   ],
   "source": [
    "df = pd.read_csv(csv_path)"
   ]
  },
  {
   "cell_type": "code",
   "execution_count": null,
   "id": "coated-nancy",
   "metadata": {
    "colab": {
     "base_uri": "https://localhost:8080/",
     "height": 424
    },
    "id": "coated-nancy",
    "outputId": "e520407e-351e-419e-b6d1-30bff3759aed",
    "scrolled": true
   },
   "outputs": [],
   "source": [
    "df"
   ]
  },
  {
   "cell_type": "code",
   "execution_count": null,
   "id": "heated-scratch",
   "metadata": {
    "colab": {
     "base_uri": "https://localhost:8080/",
     "height": 424
    },
    "id": "heated-scratch",
    "outputId": "eea781cb-4b18-413e-f96f-a58542249d58"
   },
   "outputs": [],
   "source": [
    "df_7577 = df[df['numer_sta'] == 7577.0]\n",
    "df_7577"
   ]
  },
  {
   "cell_type": "code",
   "execution_count": null,
   "id": "painted-complement",
   "metadata": {
    "colab": {
     "base_uri": "https://localhost:8080/",
     "height": 424
    },
    "id": "painted-complement",
    "outputId": "681d9c8d-4c4c-4c25-add7-28dd6ffbdf89"
   },
   "outputs": [],
   "source": [
    "df_7577 = df_7577.drop_duplicates()\n",
    "df_7577"
   ]
  },
  {
   "cell_type": "code",
   "execution_count": null,
   "id": "disabled-edinburgh",
   "metadata": {
    "colab": {
     "base_uri": "https://localhost:8080/"
    },
    "id": "disabled-edinburgh",
    "outputId": "2ccb98c1-bf8b-445d-84bc-a508ce899030",
    "scrolled": false
   },
   "outputs": [],
   "source": [
    "df_7577['date'] = pd.to_datetime(df_7577['date'])\n",
    "#df_t = df_7577.set_index('date')[['t']]\n",
    "df_7577.info()"
   ]
  },
  {
   "cell_type": "code",
   "execution_count": null,
   "id": "distinct-group",
   "metadata": {
    "colab": {
     "base_uri": "https://localhost:8080/",
     "height": 283
    },
    "id": "distinct-group",
    "outputId": "8199f19b-31ca-4a06-d791-ec3c5edd22c6",
    "scrolled": true
   },
   "outputs": [],
   "source": [
    "plt.plot(df_7577.date, df_7577.t)"
   ]
  },
  {
   "cell_type": "code",
   "execution_count": null,
   "id": "daily-guitar",
   "metadata": {
    "colab": {
     "base_uri": "https://localhost:8080/"
    },
    "id": "daily-guitar",
    "outputId": "78e6f449-2ac2-4a90-dbe9-649468b60828",
    "scrolled": true
   },
   "outputs": [],
   "source": [
    "start_date = pd.to_datetime(\"2010-01-01 00:00:00\")\n",
    "end_date = pd.to_datetime(\"2021-07-31 21:00:00\") #Excluding last\n",
    "\n",
    "#List of all dates\n",
    "all_date = pd.date_range(start_date, end_date, freq='3H')\n",
    "\n",
    "#Left join your main data on dates data\n",
    "all_date_df = pd.DataFrame({'date':all_date})\n",
    "all_date_df.info()"
   ]
  },
  {
   "cell_type": "code",
   "execution_count": null,
   "id": "brave-length",
   "metadata": {
    "colab": {
     "base_uri": "https://localhost:8080/"
    },
    "id": "brave-length",
    "outputId": "ec80e7f0-da9c-4eb9-bee6-da7b345f9fa2"
   },
   "outputs": [],
   "source": [
    "(33840 - 33769)/8"
   ]
  },
  {
   "cell_type": "code",
   "execution_count": null,
   "id": "comprehensive-ontario",
   "metadata": {
    "id": "comprehensive-ontario"
   },
   "outputs": [],
   "source": [
    "# len(list(set(df_7577[\"date\"]) - set(all_date_df[\"date\"])))\n",
    "# len(list(set(df_7577[\"date\"]) ^ set(all_date_df[\"date\"])))\n",
    "df_f = pd.merge(df_7577, all_date_df, how=\"outer\", on=\"date\")"
   ]
  },
  {
   "cell_type": "code",
   "execution_count": null,
   "id": "italic-schema",
   "metadata": {
    "colab": {
     "base_uri": "https://localhost:8080/"
    },
    "id": "italic-schema",
    "outputId": "4e586ca3-a966-4bef-81b3-ac159da6203b"
   },
   "outputs": [],
   "source": [
    "df_f.info()"
   ]
  },
  {
   "cell_type": "code",
   "execution_count": null,
   "id": "identified-teddy",
   "metadata": {
    "colab": {
     "base_uri": "https://localhost:8080/"
    },
    "id": "identified-teddy",
    "outputId": "a62659ef-81ed-436b-ab9a-6c4812456ee8",
    "scrolled": true
   },
   "outputs": [],
   "source": [
    "df_f.isnull().sum().sort_values(ascending=False)"
   ]
  },
  {
   "cell_type": "code",
   "execution_count": null,
   "id": "straight-shoulder",
   "metadata": {
    "colab": {
     "base_uri": "https://localhost:8080/"
    },
    "id": "straight-shoulder",
    "outputId": "95f4ce92-ed20-4c02-e9a3-e44bed978204"
   },
   "outputs": [],
   "source": [
    "imputer = SimpleImputer(strategy=\"mean\")\n",
    "imputer.fit(df_f[['t']])"
   ]
  },
  {
   "cell_type": "code",
   "execution_count": null,
   "id": "tutorial-attendance",
   "metadata": {
    "id": "tutorial-attendance"
   },
   "outputs": [],
   "source": [
    "df_f['t'] = imputer.transform(df_f[['t']])"
   ]
  },
  {
   "cell_type": "code",
   "execution_count": null,
   "id": "modern-compound",
   "metadata": {
    "colab": {
     "base_uri": "https://localhost:8080/"
    },
    "id": "modern-compound",
    "outputId": "b64482de-ca18-4999-abf3-8d8aa1ef6d3a",
    "scrolled": true
   },
   "outputs": [],
   "source": [
    "df_f.isnull().sum().sort_values(ascending=False)"
   ]
  },
  {
   "cell_type": "code",
   "execution_count": null,
   "id": "composed-string",
   "metadata": {
    "colab": {
     "base_uri": "https://localhost:8080/",
     "height": 424
    },
    "id": "composed-string",
    "outputId": "148aca43-6e06-47c6-b4a9-79100873dd70"
   },
   "outputs": [],
   "source": [
    "df_f.reset_index(drop=True)"
   ]
  },
  {
   "cell_type": "code",
   "execution_count": null,
   "id": "regular-isolation",
   "metadata": {
    "colab": {
     "base_uri": "https://localhost:8080/",
     "height": 283
    },
    "id": "regular-isolation",
    "outputId": "d66f4771-802d-410a-9323-002d866d6325"
   },
   "outputs": [],
   "source": [
    "plt.plot(df_f.index, df_f.t)"
   ]
  },
  {
   "cell_type": "code",
   "execution_count": null,
   "id": "pediatric-honduras",
   "metadata": {
    "colab": {
     "base_uri": "https://localhost:8080/",
     "height": 265
    },
    "id": "pediatric-honduras",
    "outputId": "84786f10-2c49-4c4e-ced8-44638c5afa47",
    "scrolled": true
   },
   "outputs": [],
   "source": [
    "def my_fit(t, data, guess_freq):\n",
    "\n",
    "    guess_mean = np.mean(data)\n",
    "    guess_std = 3*np.std(data)/(2**0.5)/(2**0.5)\n",
    "    guess_phase = 0\n",
    "    #guess_freq = 11\n",
    "    guess_amp = 1\n",
    "\n",
    "    data_first_guess = guess_std*np.sin(guess_freq*2*np.pi*t/len(t)+guess_phase) + guess_mean\n",
    "\n",
    "    optimize_func = lambda x: x[0]*np.sin(x[1]*2*np.pi*t/len(t)+x[2]) + x[3] - data\n",
    "    est_amp, est_freq, est_phase, est_mean = op.leastsq(optimize_func, [guess_amp, guess_freq, guess_phase, guess_mean])[0]\n",
    "    return (est_amp*np.sin(est_freq*2*np.pi*t/len(t)+est_phase)+est_mean), data_first_guess\n",
    "\n",
    "t = df_f.index\n",
    "data = df_f['t']\n",
    "data_fit, data_first=my_fit(t, data, 11)\n",
    "\n",
    "plt.plot(t, data, '.')\n",
    "plt.plot(t, data_first, label='first guess')\n",
    "plt.plot(t, data_fit, label='after fitting')\n",
    "plt.legend()\n",
    "plt.show()"
   ]
  },
  {
   "cell_type": "code",
   "execution_count": null,
   "id": "presidential-liability",
   "metadata": {
    "colab": {
     "base_uri": "https://localhost:8080/",
     "height": 265
    },
    "id": "presidential-liability",
    "outputId": "67ed9572-b129-4a0f-b3c3-baa8542df55e",
    "scrolled": true
   },
   "outputs": [],
   "source": [
    "def my_fit(t, data, t_fit, guess_freq):\n",
    "\n",
    "    guess_mean = np.mean(data)\n",
    "    guess_std = 3*np.std(data)/(2**0.5)/(2**0.5)\n",
    "    guess_phase = 0\n",
    "    #guess_freq = 11\n",
    "    guess_amp = 1\n",
    "\n",
    "    data_first_guess = guess_std*np.sin(guess_freq*2*np.pi*t/len(t)+guess_phase) + guess_mean\n",
    "\n",
    "    optimize_func = lambda x: x[0]*np.sin(x[1]*2*np.pi*t/len(t)+x[2]) + x[3] - data\n",
    "    est_amp, est_freq, est_phase, est_mean = op.leastsq(optimize_func, [guess_amp, guess_freq, guess_phase, guess_mean])[0]\n",
    "    return (est_amp*np.sin(est_freq*2*np.pi*t_fit/len(t)+est_phase)+est_mean), data_first_guess\n",
    "\n",
    "t = df_f.index.values\n",
    "t_fit = np.append(t, t[-1]+1)\n",
    "t_fit = np.append(t_fit, t_fit[-1]+1)\n",
    "data = df_f['t']\n",
    "data_fit, data_first=my_fit(t, data, t_fit, 11)\n",
    "\n",
    "plt.plot(t, data, '.')\n",
    "plt.plot(t, data_first, label='first guess')\n",
    "plt.plot(t_fit, data_fit, label='after fitting')\n",
    "plt.legend()\n",
    "plt.show()"
   ]
  },
  {
   "cell_type": "code",
   "execution_count": null,
   "id": "certified-december",
   "metadata": {
    "colab": {
     "base_uri": "https://localhost:8080/",
     "height": 265
    },
    "id": "certified-december",
    "outputId": "404a21ec-39a1-4233-b7fb-76017aba7632"
   },
   "outputs": [],
   "source": [
    "#### CHANGED\n",
    "#### df_f[\"unyearly\"] = data - data_fit\n",
    "df_f[\"unyearly\"] = data - data_fit[-2]\n",
    "plt.plot(t, df_f[\"unyearly\"], '.')\n",
    "plt.show()"
   ]
  },
  {
   "cell_type": "code",
   "execution_count": null,
   "id": "uniform-charter",
   "metadata": {
    "id": "uniform-charter"
   },
   "outputs": [],
   "source": [
    "df_f = df_f.set_index('date')\n",
    "df_f = df_f.asfreq(freq='3H')"
   ]
  },
  {
   "cell_type": "code",
   "execution_count": null,
   "id": "interior-pursuit",
   "metadata": {
    "colab": {
     "base_uri": "https://localhost:8080/"
    },
    "id": "interior-pursuit",
    "outputId": "2d42a4a2-ba46-43f4-d815-b18173bbf63a"
   },
   "outputs": [],
   "source": [
    "df_f.info()"
   ]
  },
  {
   "cell_type": "code",
   "execution_count": null,
   "id": "practical-lawrence",
   "metadata": {
    "id": "practical-lawrence"
   },
   "outputs": [],
   "source": [
    "total_slot = 8 * 25\n",
    "train_slot = 8*20\n",
    "serie = df_f[\"unyearly\"]\n",
    "min_slot = len(serie) - total_slot\n",
    "max_slot = len(serie)\n",
    "df_slot = df_f[min_slot:max_slot]"
   ]
  },
  {
   "cell_type": "code",
   "execution_count": null,
   "id": "greater-grammar",
   "metadata": {
    "colab": {
     "base_uri": "https://localhost:8080/",
     "height": 297
    },
    "id": "greater-grammar",
    "outputId": "9d2207eb-0faf-470c-d204-77eb1ce84a7e",
    "scrolled": false
   },
   "outputs": [],
   "source": [
    "result_add = seasonal_decompose(df_slot[\"unyearly\"], model='additive') #, extrapolate_trend=1000, two_sided=False)\n",
    "result_add.plot();"
   ]
  },
  {
   "cell_type": "code",
   "execution_count": null,
   "id": "iM1WTFkm0EI_",
   "metadata": {
    "colab": {
     "base_uri": "https://localhost:8080/"
    },
    "id": "iM1WTFkm0EI_",
    "outputId": "3da104c7-7c94-49d2-9a03-344f9954ebf6"
   },
   "outputs": [],
   "source": [
    "type(result_add)"
   ]
  },
  {
   "cell_type": "code",
   "execution_count": null,
   "id": "flexible-prescription",
   "metadata": {
    "id": "flexible-prescription",
    "outputId": "a6fe5e9e-f36a-494d-c0c7-f3b2a04df7f1",
    "scrolled": false
   },
   "outputs": [],
   "source": [
    "print('unyearly: ', adfuller(df_slot[\"unyearly\"])[1])\n",
    "print('additive resid: ', adfuller(result_add.resid.dropna())[1])\n",
    "#print('multipl resid: ', adfuller(result_mul.resid.dropna())[1])"
   ]
  },
  {
   "cell_type": "code",
   "execution_count": null,
   "id": "front-intermediate",
   "metadata": {
    "id": "front-intermediate",
    "outputId": "0ab99766-38d2-443c-d091-9e8939655735",
    "scrolled": true
   },
   "outputs": [],
   "source": [
    "fig, axes = plt.subplots(1,2, figsize=(16,3))\n",
    "plot_acf(df_slot[\"unyearly\"], lags=50, ax=axes[0]);\n",
    "plot_pacf(df_slot[\"unyearly\"], lags=50, ax=axes[1], color='r');"
   ]
  },
  {
   "cell_type": "code",
   "execution_count": null,
   "id": "fabulous-navigator",
   "metadata": {
    "id": "fabulous-navigator"
   },
   "outputs": [],
   "source": [
    "df_deseasonal = df_slot[\"unyearly\"] - result_add.seasonal \n"
   ]
  },
  {
   "cell_type": "code",
   "execution_count": null,
   "id": "sophisticated-charge",
   "metadata": {
    "id": "sophisticated-charge",
    "outputId": "d0a60fda-334a-4208-e2ee-35b672a49e09",
    "scrolled": true
   },
   "outputs": [],
   "source": [
    "fig, axes = plt.subplots(1,2, figsize=(16,3))\n",
    "plot_acf(df_deseasonal, lags=50, ax=axes[0]);\n",
    "plot_pacf(df_deseasonal, lags=50, ax=axes[1], color='r');"
   ]
  },
  {
   "cell_type": "code",
   "execution_count": null,
   "id": "crude-activity",
   "metadata": {
    "id": "crude-activity",
    "outputId": "ef40dead-f31f-4b21-984a-ec937ab97bd7",
    "scrolled": true
   },
   "outputs": [],
   "source": [
    "df_deseasonal.plot()"
   ]
  },
  {
   "cell_type": "code",
   "execution_count": null,
   "id": "damaged-knowing",
   "metadata": {
    "id": "damaged-knowing",
    "outputId": "db541dd9-c892-4b7d-ca43-683ee22e861b"
   },
   "outputs": [],
   "source": [
    "ndiffs(df_deseasonal)"
   ]
  },
  {
   "cell_type": "code",
   "execution_count": null,
   "id": "neither-substance",
   "metadata": {
    "id": "neither-substance"
   },
   "outputs": [],
   "source": [
    "df_diff = df_deseasonal.diff()"
   ]
  },
  {
   "cell_type": "code",
   "execution_count": null,
   "id": "handled-latin",
   "metadata": {
    "id": "handled-latin",
    "outputId": "663e508e-f7f9-49d8-9c4e-314814d6ebf2"
   },
   "outputs": [],
   "source": [
    "df_diff.plot()"
   ]
  },
  {
   "cell_type": "code",
   "execution_count": null,
   "id": "steady-effectiveness",
   "metadata": {
    "id": "steady-effectiveness",
    "outputId": "8ed579c6-ad7b-4db1-f8ce-4514444bc2c5",
    "scrolled": true
   },
   "outputs": [],
   "source": [
    "arima = ARIMA(df_deseasonal, order=(0,1,1))\n",
    "arima = arima.fit()\n",
    "arima.summary()"
   ]
  },
  {
   "cell_type": "code",
   "execution_count": null,
   "id": "surprised-credit",
   "metadata": {
    "id": "surprised-credit",
    "outputId": "3da45db2-17f4-42de-bc48-d2935c6c0178"
   },
   "outputs": [],
   "source": [
    "smodel = pm.auto_arima(df_deseasonal,\n",
    "                       start_p=1, max_p=3,\n",
    "                       start_q=3, max_q=4,\n",
    "                       seasonal=False,\n",
    "                       trace=True)"
   ]
  },
  {
   "cell_type": "code",
   "execution_count": null,
   "id": "egyptian-tomato",
   "metadata": {
    "id": "egyptian-tomato",
    "outputId": "79633917-c405-4bc1-aec2-33343ac646a0",
    "scrolled": true
   },
   "outputs": [],
   "source": [
    "arima = ARIMA(df_deseasonal[:8*20], order=(0,1,3))\n",
    "arima = arima.fit()\n",
    "arima.summary()\n",
    "arima.plot_predict(end=200);\n",
    "fig = plt.gcf(); fig.set_size_inches(12, 5);\n",
    "df_deseasonal.plot()"
   ]
  },
  {
   "cell_type": "code",
   "execution_count": null,
   "id": "domestic-distribution",
   "metadata": {
    "id": "domestic-distribution",
    "outputId": "335218f7-fb1c-4959-bd10-95805460304f"
   },
   "outputs": [],
   "source": [
    "# Create a correct Training/Test split to predict the last 50 points \n",
    "train = df_deseasonal[0:train_slot]\n",
    "test = df_deseasonal[train_slot:]\n",
    "\n",
    "# Build Model\n",
    "arima = ARIMA(train, order=(0, 1, 3))  \n",
    "arima = arima.fit()\n",
    "\n",
    "# Forecast\n",
    "forecast, std_err, confidence_int = arima.forecast(len(test), alpha=0.05)  # 95% confidence"
   ]
  },
  {
   "cell_type": "code",
   "execution_count": null,
   "id": "identical-mexican",
   "metadata": {
    "id": "identical-mexican"
   },
   "outputs": [],
   "source": [
    "# We define here a \"Plot forecast vs. real\", which also shows historical train set\n",
    "\n",
    "def plot_forecast(fc, train, test, upper=None, lower=None):\n",
    "    is_confidence_int = isinstance(upper, np.ndarray) and isinstance(lower, np.ndarray)\n",
    "    # Prepare plot series\n",
    "    fc_series = pd.Series(fc, index=test.index)\n",
    "    lower_series = pd.Series(upper, index=test.index) if is_confidence_int else None\n",
    "    upper_series = pd.Series(lower, index=test.index) if is_confidence_int else None\n",
    "\n",
    "    # Plot\n",
    "    plt.figure(figsize=(10,4), dpi=100)\n",
    "    plt.plot(train, label='training', color='black')\n",
    "    plt.plot(test, label='actual', color='black', ls='--')\n",
    "    plt.plot(fc_series, label='forecast', color='orange')\n",
    "    if is_confidence_int:\n",
    "        plt.fill_between(lower_series.index, lower_series, upper_series, color='k', alpha=.15)\n",
    "    plt.title('Forecast vs Actuals')\n",
    "    plt.legend(loc='upper left', fontsize=8);"
   ]
  },
  {
   "cell_type": "code",
   "execution_count": null,
   "id": "exact-bermuda",
   "metadata": {
    "id": "exact-bermuda",
    "outputId": "0e0783e7-ef16-4e58-d72d-e801ddd65f86"
   },
   "outputs": [],
   "source": [
    "plot_forecast(forecast, train, test, confidence_int[:,0], confidence_int[:,1])"
   ]
  },
  {
   "cell_type": "code",
   "execution_count": null,
   "id": "disabled-discharge",
   "metadata": {
    "id": "disabled-discharge",
    "outputId": "bb02d726-9772-4887-89bf-b179d653c85b",
    "scrolled": true
   },
   "outputs": [],
   "source": [
    "data_fit_slot = data_fit[len(data_fit) - total_slot:]\n",
    "test_sainonal = result_add.seasonal[train_slot:] + data_fit_slot[train_slot:]\n",
    "train_sainonal = result_add.seasonal[0:train_slot] + data_fit_slot[0:train_slot]\n",
    "\n",
    "forecast_recons = forecast + test_sainonal\n",
    "train_recons = train + train_sainonal\n",
    "test_recons = test + test_sainonal\n",
    "lower_recons = confidence_int[:,0] + test_sainonal\n",
    "upper_recons = confidence_int[:,1] + test_sainonal\n",
    "\n",
    "# plt \n",
    "plot_forecast(forecast_recons, train_recons, test_recons, lower_recons.values, upper_recons.values)"
   ]
  },
  {
   "cell_type": "code",
   "execution_count": null,
   "id": "comprehensive-syndicate",
   "metadata": {
    "id": "comprehensive-syndicate"
   },
   "outputs": [],
   "source": []
  }
 ],
 "metadata": {
  "colab": {
   "name": "skipass.ipynb",
   "provenance": []
  },
  "kernelspec": {
   "display_name": "Python 3",
   "language": "python",
   "name": "python3"
  },
  "language_info": {
   "codemirror_mode": {
    "name": "ipython",
    "version": 3
   },
   "file_extension": ".py",
   "mimetype": "text/x-python",
   "name": "python",
   "nbconvert_exporter": "python",
   "pygments_lexer": "ipython3",
   "version": "3.8.6"
  },
  "toc": {
   "base_numbering": 1,
   "nav_menu": {},
   "number_sections": true,
   "sideBar": true,
   "skip_h1_title": false,
   "title_cell": "Table of Contents",
   "title_sidebar": "Contents",
   "toc_cell": false,
   "toc_position": {},
   "toc_section_display": true,
   "toc_window_display": false
  }
 },
 "nbformat": 4,
 "nbformat_minor": 5
}
