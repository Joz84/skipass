{
  "nbformat": 4,
  "nbformat_minor": 0,
  "metadata": {
    "colab": {
      "name": "skipass_logistic_all_stations.ipynb",
      "provenance": [],
      "collapsed_sections": []
    },
    "kernelspec": {
      "name": "python3",
      "display_name": "Python 3"
    },
    "language_info": {
      "name": "python"
    }
  },
  "cells": [
    {
      "cell_type": "markdown",
      "metadata": {
        "id": "kPuDWC5YAq16"
      },
      "source": [
        "Generate a model to predict rain or no rain for each station"
      ]
    },
    {
      "cell_type": "code",
      "metadata": {
        "colab": {
          "base_uri": "https://localhost:8080/"
        },
        "id": "vKhgBeLzAkGu",
        "outputId": "308ccdbd-18cd-406a-8dd0-ada09f543e9f"
      },
      "source": [
        "# Comment the two lines below to run in jupyter nootebook\n",
        "from google.colab import drive\n",
        "drive.mount('/content/drive')\n",
        "\n",
        "\n",
        "%load_ext autoreload\n",
        "%autoreload 2\n",
        "import os\n",
        "import pandas as pd\n",
        "import numpy as np\n",
        "from sklearn.impute import SimpleImputer\n",
        "from sklearn.linear_model import LogisticRegression\n",
        "from sklearn.model_selection import train_test_split\n",
        "from sklearn.metrics import precision_score, recall_score\n",
        "from sklearn.preprocessing import MinMaxScaler\n",
        "from sklearn.pipeline import Pipeline \n",
        "import joblib"
      ],
      "execution_count": 19,
      "outputs": [
        {
          "output_type": "stream",
          "name": "stdout",
          "text": [
            "Drive already mounted at /content/drive; to attempt to forcibly remount, call drive.mount(\"/content/drive\", force_remount=True).\n",
            "The autoreload extension is already loaded. To reload it, use:\n",
            "  %reload_ext autoreload\n"
          ]
        }
      ]
    },
    {
      "cell_type": "code",
      "metadata": {
        "id": "sfWxLK0iBAws"
      },
      "source": [
        "# replace for the place where notebooks and data are placed: if notebook is running inside notebooks, root_path = '../' should work\n",
        "root_path  = '/content/drive/MyDrive/Colab Notebooks/skipass-master/' \n"
      ],
      "execution_count": 2,
      "outputs": []
    },
    {
      "cell_type": "code",
      "metadata": {
        "colab": {
          "base_uri": "https://localhost:8080/",
          "height": 206
        },
        "id": "mi_t_RLWBOl2",
        "outputId": "3060b8fe-0f72-4766-d36f-c73e0f7d0ac9"
      },
      "source": [
        "csv_path = root_path+'data/data_weather_cleaned.csv'\n",
        "df = pd.read_csv(csv_path)\n",
        "df.head()"
      ],
      "execution_count": 3,
      "outputs": [
        {
          "output_type": "execute_result",
          "data": {
            "text/html": [
              "<div>\n",
              "<style scoped>\n",
              "    .dataframe tbody tr th:only-of-type {\n",
              "        vertical-align: middle;\n",
              "    }\n",
              "\n",
              "    .dataframe tbody tr th {\n",
              "        vertical-align: top;\n",
              "    }\n",
              "\n",
              "    .dataframe thead th {\n",
              "        text-align: right;\n",
              "    }\n",
              "</style>\n",
              "<table border=\"1\" class=\"dataframe\">\n",
              "  <thead>\n",
              "    <tr style=\"text-align: right;\">\n",
              "      <th></th>\n",
              "      <th>date</th>\n",
              "      <th>numer_sta</th>\n",
              "      <th>Latitude</th>\n",
              "      <th>Longitude</th>\n",
              "      <th>Altitude</th>\n",
              "      <th>pmer</th>\n",
              "      <th>dd</th>\n",
              "      <th>ff</th>\n",
              "      <th>t</th>\n",
              "      <th>u</th>\n",
              "      <th>ssfrai</th>\n",
              "      <th>rr3</th>\n",
              "      <th>pres</th>\n",
              "      <th>dd_sin</th>\n",
              "      <th>dd_cos</th>\n",
              "    </tr>\n",
              "  </thead>\n",
              "  <tbody>\n",
              "    <tr>\n",
              "      <th>0</th>\n",
              "      <td>2010-01-01 00:00:00</td>\n",
              "      <td>7510.0</td>\n",
              "      <td>44.830667</td>\n",
              "      <td>-0.691333</td>\n",
              "      <td>47.0</td>\n",
              "      <td>99050.0</td>\n",
              "      <td>230.0</td>\n",
              "      <td>9.8</td>\n",
              "      <td>9.6</td>\n",
              "      <td>81.0</td>\n",
              "      <td>0.0</td>\n",
              "      <td>0</td>\n",
              "      <td>98410.0</td>\n",
              "      <td>-0.766044</td>\n",
              "      <td>-0.642788</td>\n",
              "    </tr>\n",
              "    <tr>\n",
              "      <th>1</th>\n",
              "      <td>2010-01-01 03:00:00</td>\n",
              "      <td>7510.0</td>\n",
              "      <td>44.830667</td>\n",
              "      <td>-0.691333</td>\n",
              "      <td>47.0</td>\n",
              "      <td>99160.0</td>\n",
              "      <td>250.0</td>\n",
              "      <td>11.8</td>\n",
              "      <td>8.7</td>\n",
              "      <td>87.0</td>\n",
              "      <td>0.0</td>\n",
              "      <td>0</td>\n",
              "      <td>98520.0</td>\n",
              "      <td>-0.939693</td>\n",
              "      <td>-0.342020</td>\n",
              "    </tr>\n",
              "    <tr>\n",
              "      <th>2</th>\n",
              "      <td>2010-01-01 06:00:00</td>\n",
              "      <td>7510.0</td>\n",
              "      <td>44.830667</td>\n",
              "      <td>-0.691333</td>\n",
              "      <td>47.0</td>\n",
              "      <td>99570.0</td>\n",
              "      <td>290.0</td>\n",
              "      <td>5.1</td>\n",
              "      <td>7.6</td>\n",
              "      <td>91.0</td>\n",
              "      <td>0.0</td>\n",
              "      <td>0</td>\n",
              "      <td>98920.0</td>\n",
              "      <td>-0.939693</td>\n",
              "      <td>0.342020</td>\n",
              "    </tr>\n",
              "    <tr>\n",
              "      <th>3</th>\n",
              "      <td>2010-01-01 09:00:00</td>\n",
              "      <td>7510.0</td>\n",
              "      <td>44.830667</td>\n",
              "      <td>-0.691333</td>\n",
              "      <td>47.0</td>\n",
              "      <td>99990.0</td>\n",
              "      <td>310.0</td>\n",
              "      <td>5.7</td>\n",
              "      <td>6.8</td>\n",
              "      <td>92.0</td>\n",
              "      <td>0.0</td>\n",
              "      <td>0</td>\n",
              "      <td>99340.0</td>\n",
              "      <td>-0.766044</td>\n",
              "      <td>0.642788</td>\n",
              "    </tr>\n",
              "    <tr>\n",
              "      <th>4</th>\n",
              "      <td>2010-01-01 12:00:00</td>\n",
              "      <td>7510.0</td>\n",
              "      <td>44.830667</td>\n",
              "      <td>-0.691333</td>\n",
              "      <td>47.0</td>\n",
              "      <td>100350.0</td>\n",
              "      <td>310.0</td>\n",
              "      <td>6.2</td>\n",
              "      <td>6.6</td>\n",
              "      <td>82.0</td>\n",
              "      <td>0.0</td>\n",
              "      <td>0</td>\n",
              "      <td>99690.0</td>\n",
              "      <td>-0.766044</td>\n",
              "      <td>0.642788</td>\n",
              "    </tr>\n",
              "  </tbody>\n",
              "</table>\n",
              "</div>"
            ],
            "text/plain": [
              "                  date  numer_sta   Latitude  ...     pres    dd_sin    dd_cos\n",
              "0  2010-01-01 00:00:00     7510.0  44.830667  ...  98410.0 -0.766044 -0.642788\n",
              "1  2010-01-01 03:00:00     7510.0  44.830667  ...  98520.0 -0.939693 -0.342020\n",
              "2  2010-01-01 06:00:00     7510.0  44.830667  ...  98920.0 -0.939693  0.342020\n",
              "3  2010-01-01 09:00:00     7510.0  44.830667  ...  99340.0 -0.766044  0.642788\n",
              "4  2010-01-01 12:00:00     7510.0  44.830667  ...  99690.0 -0.766044  0.642788\n",
              "\n",
              "[5 rows x 15 columns]"
            ]
          },
          "metadata": {},
          "execution_count": 3
        }
      ]
    },
    {
      "cell_type": "code",
      "metadata": {
        "colab": {
          "base_uri": "https://localhost:8080/"
        },
        "id": "gBAXMFlsBXEX",
        "outputId": "0a5aefcc-014f-4c12-cfc6-8bc5b3d80808"
      },
      "source": [
        "df.shape"
      ],
      "execution_count": 4,
      "outputs": [
        {
          "output_type": "execute_result",
          "data": {
            "text/plain": [
              "(505857, 15)"
            ]
          },
          "metadata": {},
          "execution_count": 4
        }
      ]
    },
    {
      "cell_type": "code",
      "metadata": {
        "colab": {
          "base_uri": "https://localhost:8080/"
        },
        "id": "5jzd5dUgBayB",
        "outputId": "7b0bd951-654c-42be-c544-af0a228781c9"
      },
      "source": [
        "# Generate a list with the stations\n",
        "stations = df['numer_sta'].unique()\n",
        "\n",
        "stations = np.delete(stations, 6) # eliminate station 7591, pmer = inf\n",
        "stations"
      ],
      "execution_count": 5,
      "outputs": [
        {
          "output_type": "execute_result",
          "data": {
            "text/plain": [
              "array([7510., 7434., 7643., 7690., 7481., 7630., 7255., 7240., 7460.,\n",
              "       7222., 7577., 7280., 7299., 7650.])"
            ]
          },
          "metadata": {},
          "execution_count": 5
        }
      ]
    },
    {
      "cell_type": "code",
      "metadata": {
        "colab": {
          "base_uri": "https://localhost:8080/"
        },
        "id": "R80i_d70Bdqi",
        "outputId": "1986a93f-d033-4962-88eb-07627d7554ec"
      },
      "source": [
        "df.isna().sum()"
      ],
      "execution_count": 6,
      "outputs": [
        {
          "output_type": "execute_result",
          "data": {
            "text/plain": [
              "date          0\n",
              "numer_sta     0\n",
              "Latitude      0\n",
              "Longitude     0\n",
              "Altitude      0\n",
              "pmer          0\n",
              "dd            0\n",
              "ff            0\n",
              "t             0\n",
              "u             0\n",
              "ssfrai        0\n",
              "rr3           0\n",
              "pres         66\n",
              "dd_sin        0\n",
              "dd_cos        0\n",
              "dtype: int64"
            ]
          },
          "metadata": {},
          "execution_count": 6
        }
      ]
    },
    {
      "cell_type": "code",
      "metadata": {
        "id": "FHglAt70CX31"
      },
      "source": [
        "# Instantiate model and scaler\n",
        "#scaler = MinMaxScaler()\n",
        "#model = LogisticRegression()\n",
        "model = Pipeline([('scaler', MinMaxScaler()), ('logistic', LogisticRegression())])\n"
      ],
      "execution_count": 7,
      "outputs": []
    },
    {
      "cell_type": "markdown",
      "metadata": {
        "id": "U5-yEGBZmvXf"
      },
      "source": [
        "## Training"
      ]
    },
    {
      "cell_type": "code",
      "metadata": {
        "id": "P8GHPZaTo-yK"
      },
      "source": [
        "# Create directory to save models\n",
        "directory = root_path+'models'\n",
        "if not os.path.exists(directory):\n",
        "    os.makedirs(directory)"
      ],
      "execution_count": 24,
      "outputs": []
    },
    {
      "cell_type": "code",
      "metadata": {
        "colab": {
          "base_uri": "https://localhost:8080/"
        },
        "id": "WKcNQ8KGC7wi",
        "outputId": "fbf2c551-fc81-472f-de24-b1131b65e3cd"
      },
      "source": [
        "# TRAINING!!!!!!\n",
        "\n",
        "for station in stations:\n",
        "  # Select the data that corresponds to the station\n",
        "  df_station = df[df['numer_sta'] == station]\n",
        "  # Calculate the number of rainy and no-rainy segments (called \"days\")\n",
        "  days_of_rain    = (df_station['rr3']==1).sum()\n",
        "  days_of_no_rain = (df_station['rr3']==0).sum()\n",
        "  print('=====================================================================')\n",
        "  print(f'Working on station: {station}')\n",
        "  print(f'days_of_no_rain: {days_of_no_rain}, days_of_rain: {days_of_rain}')\n",
        "  # Eliminating no-rainy days at random to balance the number of instances of each class\n",
        "  df_station = df_station[df_station['rr3'] == 1].append(df_station[df_station['rr3'] == 0].sample(days_of_rain))\n",
        "#  print(df_station.shape)\n",
        "#  print(df_of_rain.shape)\n",
        "#  print(df_of_no_rain.shape)\n",
        "  X = df_station[['t', 'u', 'pmer']]\n",
        "  y = df_station['rr3']\n",
        "  # Split data\n",
        "  X_train, X_test, y_train, y_test = train_test_split(X, y, test_size=0.33, random_state=51)\n",
        "  #if station != 7643.0:\n",
        "  model.fit(X_train, y_train)\n",
        "  model.score(X_train,y_train)\n",
        "  y_test_pred = model.predict(X_test)\n",
        "  print(model.score(X_train,y_train))\n",
        "  print(model.score(X_test,y_test))\n",
        "  print(precision_score(y_test, y_test_pred, average='macro'))\n",
        "  print(recall_score(y_test, y_test_pred, average='macro'))\n",
        "  model_path  = root_path + f'models/model{int(station)}.pkl'\n",
        "  joblib.dump(model, model_path)\n",
        "  print(f'Saved in {model_path}')"
      ],
      "execution_count": 25,
      "outputs": [
        {
          "output_type": "stream",
          "name": "stdout",
          "text": [
            "=====================================================================\n",
            "Working on station: 7510.0\n",
            "days_of_no_rain: 33079, days_of_rain: 697\n",
            "0.8370846730975349\n",
            "0.8481561822125814\n",
            "0.849673264334819\n",
            "0.8485147955726225\n",
            "Saved in /content/drive/MyDrive/Colab Notebooks/skipass-master/models/model7510.pkl\n",
            "=====================================================================\n",
            "Working on station: 7434.0\n",
            "days_of_no_rain: 32990, days_of_rain: 787\n",
            "0.8444022770398482\n",
            "0.8461538461538461\n",
            "0.8563814527940088\n",
            "0.849790305131967\n",
            "Saved in /content/drive/MyDrive/Colab Notebooks/skipass-master/models/model7434.pkl\n",
            "=====================================================================\n",
            "Working on station: 7643.0\n",
            "days_of_no_rain: 33017, days_of_rain: 479\n",
            "0.8861154446177847\n",
            "0.8706624605678234\n",
            "0.8738522954091816\n",
            "0.875110149803733\n",
            "Saved in /content/drive/MyDrive/Colab Notebooks/skipass-master/models/model7643.pkl\n",
            "=====================================================================\n",
            "Working on station: 7690.0\n",
            "days_of_no_rain: 33053, days_of_rain: 733\n",
            "0.869653767820774\n",
            "0.8863636363636364\n",
            "0.8870460565666922\n",
            "0.886960087479497\n",
            "Saved in /content/drive/MyDrive/Colab Notebooks/skipass-master/models/model7690.pkl\n",
            "=====================================================================\n",
            "Working on station: 7481.0\n",
            "days_of_no_rain: 33063, days_of_rain: 732\n",
            "0.863265306122449\n",
            "0.8450413223140496\n",
            "0.8500655651717808\n",
            "0.8424671592775042\n",
            "Saved in /content/drive/MyDrive/Colab Notebooks/skipass-master/models/model7481.pkl\n",
            "=====================================================================\n",
            "Working on station: 7630.0\n",
            "days_of_no_rain: 33340, days_of_rain: 458\n",
            "0.8531810766721044\n",
            "0.8415841584158416\n",
            "0.8513669447896326\n",
            "0.8457809224318659\n",
            "Saved in /content/drive/MyDrive/Colab Notebooks/skipass-master/models/model7630.pkl\n",
            "=====================================================================\n",
            "Working on station: 7255.0\n",
            "days_of_no_rain: 33204, days_of_rain: 582\n",
            "0.8408215661103979\n",
            "0.8285714285714286\n",
            "0.8380973402494206\n",
            "0.8309566250742721\n",
            "Saved in /content/drive/MyDrive/Colab Notebooks/skipass-master/models/model7255.pkl\n",
            "=====================================================================\n",
            "Working on station: 7240.0\n",
            "days_of_no_rain: 33206, days_of_rain: 519\n",
            "0.8460431654676259\n",
            "0.8250728862973761\n",
            "0.8262031175549657\n",
            "0.8266700749829584\n",
            "Saved in /content/drive/MyDrive/Colab Notebooks/skipass-master/models/model7240.pkl\n",
            "=====================================================================\n",
            "Working on station: 7460.0\n",
            "days_of_no_rain: 33062, days_of_rain: 442\n",
            "0.8665540540540541\n",
            "0.8356164383561644\n",
            "0.8402636195533639\n",
            "0.8368141925188906\n",
            "Saved in /content/drive/MyDrive/Colab Notebooks/skipass-master/models/model7460.pkl\n",
            "=====================================================================\n",
            "Working on station: 7222.0\n",
            "days_of_no_rain: 33173, days_of_rain: 627\n",
            "0.8607142857142858\n",
            "0.8502415458937198\n",
            "0.8615834792411197\n",
            "0.8519599374314197\n",
            "Saved in /content/drive/MyDrive/Colab Notebooks/skipass-master/models/model7222.pkl\n",
            "=====================================================================\n",
            "Working on station: 7577.0\n",
            "days_of_no_rain: 33025, days_of_rain: 750\n",
            "0.8885572139303483\n",
            "0.8707070707070707\n",
            "0.8784836679652382\n",
            "0.8711431090214516\n",
            "Saved in /content/drive/MyDrive/Colab Notebooks/skipass-master/models/model7577.pkl\n",
            "=====================================================================\n",
            "Working on station: 7280.0\n",
            "days_of_no_rain: 32998, days_of_rain: 575\n",
            "0.8376623376623377\n",
            "0.8447368421052631\n",
            "0.8483193277310924\n",
            "0.8444693758829884\n",
            "Saved in /content/drive/MyDrive/Colab Notebooks/skipass-master/models/model7280.pkl\n",
            "=====================================================================\n",
            "Working on station: 7299.0\n",
            "days_of_no_rain: 33208, days_of_rain: 571\n",
            "0.8130718954248366\n",
            "0.8090185676392573\n",
            "0.8155559372495134\n",
            "0.8103322072072072\n",
            "Saved in /content/drive/MyDrive/Colab Notebooks/skipass-master/models/model7299.pkl\n",
            "=====================================================================\n",
            "Working on station: 7650.0\n",
            "days_of_no_rain: 33387, days_of_rain: 429\n",
            "0.8780487804878049\n",
            "0.8556338028169014\n",
            "0.8622161944946755\n",
            "0.8580614727642881\n",
            "Saved in /content/drive/MyDrive/Colab Notebooks/skipass-master/models/model7650.pkl\n"
          ]
        }
      ]
    },
    {
      "cell_type": "markdown",
      "metadata": {
        "id": "kWZOr3OSmKA4"
      },
      "source": [
        "## TEST"
      ]
    },
    {
      "cell_type": "code",
      "metadata": {
        "id": "OCq_AC5vTSjk"
      },
      "source": [
        "loaded_model = joblib.load(model_path) # loading a model"
      ],
      "execution_count": 9,
      "outputs": []
    },
    {
      "cell_type": "code",
      "metadata": {
        "colab": {
          "base_uri": "https://localhost:8080/"
        },
        "id": "QuLKgCtPToDb",
        "outputId": "d6ad8f29-4c7b-475a-f37e-a27cbac4533c"
      },
      "source": [
        "loaded_model.score(X_train,y_train)\n",
        "y_test_pred = loaded_model.predict(X_test)\n",
        "print(loaded_model.score(X_train,y_train))\n",
        "print(loaded_model.score(X_test,y_test))\n"
      ],
      "execution_count": 11,
      "outputs": [
        {
          "output_type": "stream",
          "name": "stdout",
          "text": [
            "0.8763066202090593\n",
            "0.8661971830985915\n"
          ]
        }
      ]
    },
    {
      "cell_type": "markdown",
      "metadata": {
        "id": "-gd3yUKLmOgE"
      },
      "source": [
        "## Load all models in memory\n",
        "I use locals to manipulate variable_names as variables"
      ]
    },
    {
      "cell_type": "code",
      "metadata": {
        "colab": {
          "base_uri": "https://localhost:8080/"
        },
        "id": "SnKBBXmTTzcg",
        "outputId": "d6d4ebb9-9adc-4623-99d0-66b566050456"
      },
      "source": [
        "# Load all models\n",
        "lcl = locals()\n",
        "for station in stations:\n",
        "  model_path = f'/content/drive/MyDrive/Colab Notebooks/skipass-master/models/model{int(station)}.pkl'\n",
        "  loaded_model = joblib.load(model_path)\n",
        "  variable_name = f'model{str(int(station))}'\n",
        "  lcl[variable_name] = loaded_model\n",
        "  print(variable_name)\n",
        "\n"
      ],
      "execution_count": 12,
      "outputs": [
        {
          "output_type": "stream",
          "name": "stdout",
          "text": [
            "model7510\n",
            "model7434\n",
            "model7643\n",
            "model7690\n",
            "model7481\n",
            "model7630\n",
            "model7255\n",
            "model7240\n",
            "model7460\n",
            "model7222\n",
            "model7577\n",
            "model7280\n",
            "model7299\n",
            "model7650\n"
          ]
        }
      ]
    },
    {
      "cell_type": "markdown",
      "metadata": {
        "id": "Y5wMR6dImd6l"
      },
      "source": [
        "Once all the models are loaded, you can use get_rain function"
      ]
    },
    {
      "cell_type": "code",
      "metadata": {
        "id": "S92BLxL-XgO7"
      },
      "source": [
        "def get_rain(numer_sta, t, u, pmer): # numer_sta is the station number integer\n",
        "  variable_name = f'model{str(numer_sta)}'\n",
        "#  print(lcl[variable_name]) \n",
        "  model = lcl[variable_name]\n",
        "  X_test = np.array([[t, u, pmer]])\n",
        "  return model.predict(X_test)\n"
      ],
      "execution_count": 13,
      "outputs": []
    },
    {
      "cell_type": "code",
      "metadata": {
        "colab": {
          "base_uri": "https://localhost:8080/"
        },
        "id": "ycNXrRmBYFzN",
        "outputId": "20bdba57-32e8-4809-822e-9cab41b0e5fa"
      },
      "source": [
        "get_rain(7240, 2.8, 4, 100190)"
      ],
      "execution_count": 14,
      "outputs": [
        {
          "output_type": "execute_result",
          "data": {
            "text/plain": [
              "array([0])"
            ]
          },
          "metadata": {},
          "execution_count": 14
        }
      ]
    },
    {
      "cell_type": "code",
      "metadata": {
        "id": "e-JnPGC2dQJK"
      },
      "source": [
        ""
      ],
      "execution_count": null,
      "outputs": []
    }
  ]
}